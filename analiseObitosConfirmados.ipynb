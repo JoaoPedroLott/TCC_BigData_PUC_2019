{
 "cells": [
  {
   "cell_type": "markdown",
   "id": "2064da93",
   "metadata": {},
   "source": [
    "# Análise dos dados de óbitos confirmados por covid no estado de Minas Gerais"
   ]
  },
  {
   "cell_type": "markdown",
   "id": "0043af37",
   "metadata": {},
   "source": [
    "### Importar as bibliotecas necessárias para a análise"
   ]
  },
  {
   "cell_type": "code",
   "execution_count": null,
   "id": "056be88c",
   "metadata": {},
   "outputs": [],
   "source": [
    "import pandas as pd\n",
    "import numpy as np\n",
    "import matplotlib.pyplot as plt\n",
    "import seaborn as sns"
   ]
  },
  {
   "cell_type": "markdown",
   "id": "7e5f2a10",
   "metadata": {},
   "source": [
    "### Importar o arquivo"
   ]
  },
  {
   "cell_type": "code",
   "execution_count": null,
   "id": "450ba42d",
   "metadata": {},
   "outputs": [],
   "source": [
    "dataFrameObitos = pd.read_csv('./Dados/ObitosConfirmados.csv', sep=',')\n",
    "dataFrameObitos.head()"
   ]
  },
  {
   "cell_type": "markdown",
   "id": "ecc230b5",
   "metadata": {},
   "source": [
    "### Verificar os tipos de dados do dataframe"
   ]
  },
  {
   "cell_type": "code",
   "execution_count": null,
   "id": "841d7ac1",
   "metadata": {},
   "outputs": [],
   "source": [
    "dataFrameObitos.dtypes"
   ]
  },
  {
   "cell_type": "markdown",
   "id": "38c62932",
   "metadata": {},
   "source": [
    "### Agora vamos converter alguns tipos de dados"
   ]
  },
  {
   "cell_type": "code",
   "execution_count": null,
   "id": "4a03ad6c",
   "metadata": {},
   "outputs": [],
   "source": [
    "dataFrameObitos.SEXO = dataFrameObitos.SEXO.astype('category')\n",
    "dataFrameObitos.DATA_OBITO = pd.to_datetime (dataFrameObitos.DATA_OBITO)\n",
    "dataFrameObitos.COMORBIDADE = dataFrameObitos.COMORBIDADE.astype('category')\n",
    "dataFrameObitos.dtypes"
   ]
  },
  {
   "cell_type": "markdown",
   "id": "606e7249",
   "metadata": {},
   "source": [
    "### Verificar a quantidade de registros e quantos deles são nulos"
   ]
  },
  {
   "cell_type": "code",
   "execution_count": null,
   "id": "ca88e460",
   "metadata": {},
   "outputs": [],
   "source": [
    "print(dataFrameObitos.isna().sum())\n",
    "print(' ')\n",
    "print('Total de registros: ',dataFrameObitos.PACIENTE.count())"
   ]
  },
  {
   "cell_type": "markdown",
   "id": "4e2ae897",
   "metadata": {},
   "source": [
    "### Removendo os registros nulos do dataframe e verificando a quantidade novamente"
   ]
  },
  {
   "cell_type": "code",
   "execution_count": null,
   "id": "9714cc1e",
   "metadata": {},
   "outputs": [],
   "source": [
    "dataFrameObitos = dataFrameObitos.dropna(how='any',axis=0)"
   ]
  },
  {
   "cell_type": "code",
   "execution_count": null,
   "id": "dbd6908c",
   "metadata": {},
   "outputs": [],
   "source": [
    "print(dataFrameObitos.isna().sum())\n",
    "print(' ')\n",
    "print('Total de registros: ',dataFrameObitos.PACIENTE.count())"
   ]
  },
  {
   "cell_type": "code",
   "execution_count": null,
   "id": "3fb6f842",
   "metadata": {},
   "outputs": [],
   "source": [
    "dataFrameObitos.to_csv(\"./Dados/ObitosConfirmadosTratado.csv\")"
   ]
  },
  {
   "cell_type": "markdown",
   "id": "7924e91d",
   "metadata": {},
   "source": [
    "### Aqui temos um gráfico de linha a com os dados das datas de óbitos e quantidade de mortes"
   ]
  },
  {
   "cell_type": "code",
   "execution_count": null,
   "id": "b16a6d6c",
   "metadata": {},
   "outputs": [],
   "source": [
    "dfGrafico = dataFrameObitos.groupby('DATA_OBITO').agg({'PACIENTE': np.size})\n",
    "\n",
    "fig, ax = plt.subplots(figsize=(15,5))\n",
    "\n",
    "sns.lineplot(x=dfGrafico.index, y=dfGrafico.PACIENTE, ax=ax, data=dfGrafico, linewidth=2)\n",
    "\n",
    "ax.set_title(\"Óbitos X Data\", fontdict={'fontsize':15})\n",
    "ax.set_xlabel('Data', fontdict={'fontsize':14})\n",
    "ax.set_ylabel('Óbitos', fontdict={'fontsize':14})\n",
    "ax.tick_params(labelsize=13)\n",
    "\n",
    "for axis in ['top', 'right']:\n",
    "   ax.spines[axis].set_color(None)\n",
    "\n",
    "fig.savefig(\"./Imagens/ObitosXDia.png\")\n",
    "fig.tight_layout();"
   ]
  },
  {
   "cell_type": "markdown",
   "id": "10571a09",
   "metadata": {},
   "source": [
    "### Aqui temos um gráfico de barras mostrando a quantidade de óbitos agrupada por sexo"
   ]
  },
  {
   "cell_type": "code",
   "execution_count": null,
   "id": "08fe3f0d",
   "metadata": {},
   "outputs": [],
   "source": [
    "dfGrafico = dataFrameObitos.groupby('SEXO')[['PACIENTE']].count()\n",
    "\n",
    "fig, ax = plt.subplots()\n",
    "\n",
    "plot = sns.barplot(x=dfGrafico.index, y=dfGrafico.PACIENTE, ax=ax, data=dfGrafico)\n",
    "\n",
    "for p in plot.patches:\n",
    "    plot.annotate(format(p.get_height(), '.0f'), \n",
    "                   (p.get_x() + p.get_width() / 2., p.get_height()), \n",
    "                   ha = 'center', va = 'center', \n",
    "                   xytext = (0, 9), \n",
    "                   textcoords = 'offset points')\n",
    "\n",
    "ax.set_title(\"Óbitos X Sexo\", fontdict={'fontsize':15})\n",
    "ax.set_xlabel('Sexo', fontdict={'fontsize':14})\n",
    "ax.set_ylabel('Óbitos', fontdict={'fontsize':14})\n",
    "ax.tick_params(labelsize=13)\n",
    "\n",
    "for axis in ['top', 'right']:\n",
    "   ax.spines[axis].set_color(None)\n",
    "\n",
    "fig.savefig(\"./Imagens/ObitosXSexo.png\")\n",
    "fig.tight_layout();"
   ]
  },
  {
   "cell_type": "markdown",
   "id": "75530187",
   "metadata": {},
   "source": [
    "### Aqui temos um gráfico de barras mostrando a quantidade de óbitos agrupada por idade"
   ]
  },
  {
   "cell_type": "code",
   "execution_count": null,
   "id": "392a8d8a",
   "metadata": {},
   "outputs": [],
   "source": [
    "dfGrafico = dataFrameObitos.groupby('IDADE')[['PACIENTE']].count()\n",
    "\n",
    "fig, ax = plt.subplots(figsize=(30,5))\n",
    "\n",
    "sns.barplot(x=dfGrafico.index, y=dfGrafico.PACIENTE, ax=ax, data=dfGrafico)\n",
    "\n",
    "ax.set_title(\"Óbitos X Idade\", fontdict={'fontsize':15})\n",
    "ax.set_xlabel('Idade', fontdict={'fontsize':14})\n",
    "ax.set_ylabel('Óbitos', fontdict={'fontsize':14})\n",
    "ax.tick_params(labelsize=13)\n",
    "\n",
    "for axis in ['top', 'right']:\n",
    "   ax.spines[axis].set_color(None)\n",
    "\n",
    "fig.savefig(\"./Imagens/ObitosXIdade.png\")\n",
    "fig.tight_layout();"
   ]
  },
  {
   "cell_type": "markdown",
   "id": "191b52b9",
   "metadata": {},
   "source": [
    "### Aqui temos um gráfico de barras mostrando a quantidade de óbitos agrupada por comorbidade (possui ou não)"
   ]
  },
  {
   "cell_type": "code",
   "execution_count": null,
   "id": "04bc38b5",
   "metadata": {},
   "outputs": [],
   "source": [
    "comorbidade = dataFrameObitos.groupby(\"COMORBIDADE\")['PACIENTE'].count().reset_index()\n",
    "\n",
    "fig, ax = plt.subplots()\n",
    "\n",
    "plot = sns.barplot(x=comorbidade['COMORBIDADE'], y=comorbidade['PACIENTE'], ax=ax, data=comorbidade)\n",
    "for p in plot.patches:\n",
    "    plot.annotate(format(p.get_height(), '.0f'), \n",
    "                   (p.get_x() + p.get_width() / 2., p.get_height()), \n",
    "                   ha = 'center', va = 'center', \n",
    "                   xytext = (0, 9), \n",
    "                   textcoords = 'offset points')\n",
    "\n",
    "ax.set_title(\"Óbitos X Comorbidade\", fontdict={'fontsize':15})\n",
    "ax.set_xlabel('Comorbidade', fontdict={'fontsize':14})\n",
    "ax.set_ylabel('Óbitos', fontdict={'fontsize':14})\n",
    "ax.tick_params(labelsize=13)\n",
    "\n",
    "for axis in ['top', 'right']:\n",
    "   ax.spines[axis].set_color(None)\n",
    "\n",
    "fig.savefig(\"./Imagens/ObitosXComorbidade.png\")\n",
    "fig.tight_layout();"
   ]
  },
  {
   "cell_type": "markdown",
   "id": "e7231d21",
   "metadata": {},
   "source": [
    "### Neste gráfico temos um quantitativo de mortes por município, trazendo os top 20"
   ]
  },
  {
   "cell_type": "code",
   "execution_count": null,
   "id": "e5d0877a",
   "metadata": {},
   "outputs": [],
   "source": [
    "#Cria um grafico de barras separando a quantidade de mortes por municipo de residencia (TOP 20)\n",
    "municipios = dataFrameObitos.groupby(\"MUNICIPIO_RESIDENCIA\")['PACIENTE'].count().reset_index()\n",
    "\n",
    "# Encontrar os 20 municipios com o maior numero de mortes\n",
    "top_20 = municipios.sort_values(by=['PACIENTE'], ascending=False).head(20)\n",
    "\n",
    "fig, ax = plt.subplots(figsize=(12,10))\n",
    "\n",
    "plot = sns.barplot(top_20['PACIENTE'], top_20['MUNICIPIO_RESIDENCIA'])\n",
    "for i,(value,name) in enumerate(zip(top_20['PACIENTE'],top_20['MUNICIPIO_RESIDENCIA'])):\n",
    "    plot.text(value,i-0.05,f'{value:,.0f}',size=10)\n",
    "    \n",
    "ax.set_title(\"Municipio X Óbitos\", fontdict={'fontsize':15})\n",
    "ax.set_xlabel('Óbitos', fontdict={'fontsize':14})\n",
    "ax.set_ylabel('Municipios', fontdict={'fontsize':14})\n",
    "ax.tick_params(labelsize=13)\n",
    "\n",
    "plt.savefig(\"./Imagens/ObitosXMunicipios.png\")\n",
    "plt.show()"
   ]
  }
 ],
 "metadata": {
  "kernelspec": {
   "display_name": "Python 3",
   "language": "python",
   "name": "python3"
  },
  "language_info": {
   "codemirror_mode": {
    "name": "ipython",
    "version": 3
   },
   "file_extension": ".py",
   "mimetype": "text/x-python",
   "name": "python",
   "nbconvert_exporter": "python",
   "pygments_lexer": "ipython3",
   "version": "3.7.9"
  }
 },
 "nbformat": 4,
 "nbformat_minor": 5
}
