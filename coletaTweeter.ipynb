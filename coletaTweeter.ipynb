{
 "cells": [
  {
   "cell_type": "code",
   "execution_count": 1,
   "id": "bde61e7c",
   "metadata": {},
   "outputs": [],
   "source": [
    "import tweepy\n",
    "import pandas as pd     \n",
    "import numpy as np "
   ]
  },
  {
   "cell_type": "code",
   "execution_count": 2,
   "id": "16875758",
   "metadata": {},
   "outputs": [],
   "source": [
    "#Credenciais para utilização da API do Twitter\n",
    "\n",
    "consumer_key = \"ThjEtKexjpxXSEFdIskFAJIa1\"\n",
    "consumer_secret = \"xVAOsFNAov5zBeToU6pQlTVGOGFY3yhaSdChzmAIq1LLFvNAs2\"\n",
    "access_token = \"989683030229995521-lKpEaaN5RMMpJg99BIN0x4KFdEvJjde\"\n",
    "access_token_secret = \"M9ibsxsupWqJ7Aby2FXtsPidLvrvmUIwTtNxDhXDDlO6Q\""
   ]
  },
  {
   "cell_type": "code",
   "execution_count": 3,
   "id": "9e7e135c",
   "metadata": {},
   "outputs": [],
   "source": [
    "#Realizar autenticação no Twitter\n",
    "\n",
    "auth = tweepy.OAuthHandler(consumer_key, consumer_secret)\n",
    "auth.set_access_token(access_token, access_token_secret)\n",
    "token = tweepy.API(auth,wait_on_rate_limit=True,wait_on_rate_limit_notify=True,retry_count=5)"
   ]
  },
  {
   "cell_type": "code",
   "execution_count": 4,
   "id": "3c47d4b2",
   "metadata": {},
   "outputs": [],
   "source": [
    "# Definir listas de armazenamento\n",
    "tweets = []\n",
    "info = []\n",
    "\n",
    "#Definir que palavra deseja pesquisar no Twitter\n",
    "keyword = (\"covid-19  OR  covid  OR  coronavirus OR pandemic OR corona OR quarentena OR pandemia\")"
   ]
  },
  {
   "cell_type": "code",
   "execution_count": 5,
   "id": "2674c3da",
   "metadata": {},
   "outputs": [
    {
     "name": "stderr",
     "output_type": "stream",
     "text": [
      "Rate limit reached. Sleeping for: 816\n",
      "Rate limit reached. Sleeping for: 818\n",
      "Rate limit reached. Sleeping for: 819\n"
     ]
    }
   ],
   "source": [
    "for tweet in tweepy.Cursor(token.search,\n",
    "                           q=keyword, \n",
    "                           tweet_mode='extended',\n",
    "                           rpp = 100,\n",
    "                           result_type=\"mixed\",\n",
    "                           lang='pt', \n",
    "                           include_entities=True).items(10000): #serão coletados 10000 tweets\n",
    "    if 'retweeted_status' in dir(tweet):\n",
    "        aux=tweet.retweeted_status.full_text\n",
    "    else:\n",
    "        aux=tweet.full_text\n",
    "        \n",
    "    newtweet = aux.replace(\"\\n\", \" \")\n",
    "   \n",
    "    tweets.append(newtweet)\n",
    "    info.append(tweet)"
   ]
  },
  {
   "cell_type": "code",
   "execution_count": 6,
   "id": "ae7f5a4b",
   "metadata": {},
   "outputs": [
    {
     "name": "stdout",
     "output_type": "stream",
     "text": [
      "Total de tweets coletados 10000.\n"
     ]
    }
   ],
   "source": [
    "# Para verificar a quantidade de tweets coletado use a função \"len()\"\n",
    "\n",
    "print(\"Total de tweets coletados %s.\" % (len(info)))"
   ]
  },
  {
   "cell_type": "code",
   "execution_count": 7,
   "id": "09e9df11",
   "metadata": {},
   "outputs": [],
   "source": [
    "tweets_df = pd.DataFrame(tweets, columns=['Tweets']) \n",
    "\n",
    "tweets_df['len']  = np.array([len(tweet) for tweet in tweets])\n",
    "tweets_df['ID']   = np.array([tweet.id for tweet in info])\n",
    "tweets_df['USER']   = np.array([tweet.user.screen_name for tweet in info])\n",
    "tweets_df['userName'] = np.array([tweet.user.name for tweet in info])\n",
    "tweets_df['User Location']    = np.array([tweet.user.location for tweet in info])\n",
    "tweets_df['Language'] = np.array([tweet.user.lang for tweet in info])\n",
    "tweets_df['Date'] = np.array([tweet.created_at for tweet in info])\n",
    "tweets_df['Source'] = np.array([tweet.source for tweet in info])\n",
    "tweets_df['Likes']  = np.array([tweet.favorite_count for tweet in info])\n",
    "tweets_df['Retweets']    = np.array([tweet.retweet_count for tweet in info])     \n",
    "\n",
    "tweets_df.to_csv(\"./Dados/tweets_covid_3.csv\")"
   ]
  },
  {
   "cell_type": "code",
   "execution_count": null,
   "id": "57d80cb4",
   "metadata": {},
   "outputs": [],
   "source": []
  }
 ],
 "metadata": {
  "kernelspec": {
   "display_name": "Python 3",
   "language": "python",
   "name": "python3"
  },
  "language_info": {
   "codemirror_mode": {
    "name": "ipython",
    "version": 3
   },
   "file_extension": ".py",
   "mimetype": "text/x-python",
   "name": "python",
   "nbconvert_exporter": "python",
   "pygments_lexer": "ipython3",
   "version": "3.7.9"
  }
 },
 "nbformat": 4,
 "nbformat_minor": 5
}
