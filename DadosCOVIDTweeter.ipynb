{
 "cells": [
  {
   "cell_type": "code",
   "execution_count": 1,
   "metadata": {},
   "outputs": [],
   "source": [
    "#Importando as libs\n",
    "import tweepy\n",
    "import pandas as pd     \n",
    "import numpy as np \n",
    "\n",
    "\n",
    "\n",
    "#import time\n",
    "#import re\n",
    "#import warnings\n",
    "## Pacotes para visualização \n",
    "#import matplotlib.pyplot as plt\n",
    "#from textblob import TextBlob as tb\n",
    "##MAPA\n",
    "#from geopy.geocoders import Nominatim\n",
    "#import folium\n",
    "#from folium import plugins\n",
    "#from wordcloud import WordCloud, STOPWORDS"
   ]
  },
  {
   "cell_type": "code",
   "execution_count": 2,
   "metadata": {},
   "outputs": [],
   "source": [
    "#Credenciais para utilização da API do Twitter\n",
    "\n",
    "consumer_key = \"ThjEtKexjpxXSEFdIskFAJIa1\"\n",
    "consumer_secret = \"xVAOsFNAov5zBeToU6pQlTVGOGFY3yhaSdChzmAIq1LLFvNAs2\"\n",
    "access_token = \"989683030229995521-lKpEaaN5RMMpJg99BIN0x4KFdEvJjde\"\n",
    "access_token_secret = \"M9ibsxsupWqJ7Aby2FXtsPidLvrvmUIwTtNxDhXDDlO6Q\""
   ]
  },
  {
   "cell_type": "code",
   "execution_count": 3,
   "metadata": {},
   "outputs": [],
   "source": [
    "#Realizar autenticação no Twitter\n",
    "\n",
    "auth = tweepy.OAuthHandler(consumer_key, consumer_secret)\n",
    "auth.set_access_token(access_token, access_token_secret)\n",
    "token = tweepy.API(auth,wait_on_rate_limit=True,wait_on_rate_limit_notify=True,retry_count=5)"
   ]
  },
  {
   "cell_type": "code",
   "execution_count": 4,
   "metadata": {},
   "outputs": [],
   "source": [
    "# Definir listas de armazenamento\n",
    "tweets = []\n",
    "info = []\n",
    "\n",
    "#Definir que palavra deseja pesquisar no Twitter\n",
    "keyword = (\"covid-19  OR  covid  OR  coronavirus OR pandemic OR coronga OR corona OR quarentena OR pandemia\")"
   ]
  },
  {
   "cell_type": "code",
   "execution_count": 5,
   "metadata": {},
   "outputs": [
    {
     "name": "stderr",
     "output_type": "stream",
     "text": [
      "Rate limit reached. Sleeping for: 695\n",
      "Rate limit reached. Sleeping for: 694\n",
      "Rate limit reached. Sleeping for: 694\n"
     ]
    }
   ],
   "source": [
    "for tweet in tweepy.Cursor(token.search,\n",
    "                           q=keyword, \n",
    "                           tweet_mode='extended',\n",
    "                           rpp = 100,\n",
    "                           result_type=\"mixed\",\n",
    "                           lang='pt', \n",
    "                           include_entities=True).items(10000): #serão coletados 10000 tweets\n",
    "    if 'retweeted_status' in dir(tweet):\n",
    "        aux=tweet.retweeted_status.full_text\n",
    "    else:\n",
    "        aux=tweet.full_text\n",
    "        \n",
    "    newtweet = aux.replace(\"\\n\", \" \")\n",
    "   \n",
    "    tweets.append(newtweet)\n",
    "    info.append(tweet)"
   ]
  },
  {
   "cell_type": "code",
   "execution_count": 6,
   "metadata": {},
   "outputs": [
    {
     "name": "stdout",
     "output_type": "stream",
     "text": [
      "Total de tweets coletados 10000.\n"
     ]
    }
   ],
   "source": [
    "# Para verificar a quantidade de tweets coletado use a função \"len()\"\n",
    "\n",
    "print(\"Total de tweets coletados %s.\" % (len(info)))"
   ]
  },
  {
   "cell_type": "code",
   "execution_count": 7,
   "metadata": {},
   "outputs": [],
   "source": [
    "tweets_df = pd.DataFrame(tweets, columns=['Tweets']) \n",
    "\n",
    "tweets_df['len']  = np.array([len(tweet) for tweet in tweets])\n",
    "tweets_df['ID']   = np.array([tweet.id for tweet in info])\n",
    "tweets_df['USER']   = np.array([tweet.user.screen_name for tweet in info])\n",
    "tweets_df['userName'] = np.array([tweet.user.name for tweet in info])\n",
    "tweets_df['User Location']    = np.array([tweet.user.location for tweet in info])\n",
    "tweets_df['Language'] = np.array([tweet.user.lang for tweet in info])\n",
    "tweets_df['Date'] = np.array([tweet.created_at for tweet in info])\n",
    "tweets_df['Source'] = np.array([tweet.source for tweet in info])\n",
    "tweets_df['Likes']  = np.array([tweet.favorite_count for tweet in info])\n",
    "tweets_df['Retweets']    = np.array([tweet.retweet_count for tweet in info])     \n",
    "\n",
    "tweets_df.to_csv(\"tweets_covid_2.csv\")"
   ]
  },
  {
   "cell_type": "code",
   "execution_count": 8,
   "metadata": {},
   "outputs": [
    {
     "data": {
      "text/html": [
       "<div>\n",
       "<style scoped>\n",
       "    .dataframe tbody tr th:only-of-type {\n",
       "        vertical-align: middle;\n",
       "    }\n",
       "\n",
       "    .dataframe tbody tr th {\n",
       "        vertical-align: top;\n",
       "    }\n",
       "\n",
       "    .dataframe thead th {\n",
       "        text-align: right;\n",
       "    }\n",
       "</style>\n",
       "<table border=\"1\" class=\"dataframe\">\n",
       "  <thead>\n",
       "    <tr style=\"text-align: right;\">\n",
       "      <th></th>\n",
       "      <th>Unnamed: 0</th>\n",
       "      <th>Tweets</th>\n",
       "      <th>len</th>\n",
       "      <th>ID</th>\n",
       "      <th>USER</th>\n",
       "      <th>userName</th>\n",
       "      <th>User Location</th>\n",
       "      <th>Language</th>\n",
       "      <th>Date</th>\n",
       "      <th>Source</th>\n",
       "      <th>Likes</th>\n",
       "      <th>Retweets</th>\n",
       "    </tr>\n",
       "  </thead>\n",
       "  <tbody>\n",
       "    <tr>\n",
       "      <th>0</th>\n",
       "      <td>0</td>\n",
       "      <td>Diretor responsável pelo Enem morre de Covid e...</td>\n",
       "      <td>103</td>\n",
       "      <td>1348773192853200899</td>\n",
       "      <td>folha</td>\n",
       "      <td>Folha de S.Paulo</td>\n",
       "      <td>São Paulo, Brazil</td>\n",
       "      <td>NaN</td>\n",
       "      <td>2021-01-11 23:26:02</td>\n",
       "      <td>Folha com welcome-app 1.0</td>\n",
       "      <td>25363</td>\n",
       "      <td>3845</td>\n",
       "    </tr>\n",
       "    <tr>\n",
       "      <th>1</th>\n",
       "      <td>1</td>\n",
       "      <td>'Bolsonaro tentou sabotar medidas contra Covid...</td>\n",
       "      <td>123</td>\n",
       "      <td>1349332869869690881</td>\n",
       "      <td>g1</td>\n",
       "      <td>G1</td>\n",
       "      <td>Brasil</td>\n",
       "      <td>NaN</td>\n",
       "      <td>2021-01-13 12:30:00</td>\n",
       "      <td>TweetDeck</td>\n",
       "      <td>10140</td>\n",
       "      <td>947</td>\n",
       "    </tr>\n",
       "    <tr>\n",
       "      <th>2</th>\n",
       "      <td>2</td>\n",
       "      <td>O governo não vai adiar o Enem no meio de um n...</td>\n",
       "      <td>280</td>\n",
       "      <td>1348735575801651200</td>\n",
       "      <td>TatiNefertari</td>\n",
       "      <td>Tati Nefertari</td>\n",
       "      <td>NaN</td>\n",
       "      <td>NaN</td>\n",
       "      <td>2021-01-11 20:56:34</td>\n",
       "      <td>Twitter for Android</td>\n",
       "      <td>22863</td>\n",
       "      <td>4728</td>\n",
       "    </tr>\n",
       "  </tbody>\n",
       "</table>\n",
       "</div>"
      ],
      "text/plain": [
       "   Unnamed: 0                                             Tweets  len  \\\n",
       "0           0  Diretor responsável pelo Enem morre de Covid e...  103   \n",
       "1           1  'Bolsonaro tentou sabotar medidas contra Covid...  123   \n",
       "2           2  O governo não vai adiar o Enem no meio de um n...  280   \n",
       "\n",
       "                    ID           USER          userName      User Location  \\\n",
       "0  1348773192853200899          folha  Folha de S.Paulo  São Paulo, Brazil   \n",
       "1  1349332869869690881             g1                G1             Brasil   \n",
       "2  1348735575801651200  TatiNefertari    Tati Nefertari                NaN   \n",
       "\n",
       "   Language                 Date                     Source  Likes  Retweets  \n",
       "0       NaN  2021-01-11 23:26:02  Folha com welcome-app 1.0  25363      3845  \n",
       "1       NaN  2021-01-13 12:30:00                  TweetDeck  10140       947  \n",
       "2       NaN  2021-01-11 20:56:34        Twitter for Android  22863      4728  "
      ]
     },
     "execution_count": 8,
     "metadata": {},
     "output_type": "execute_result"
    }
   ],
   "source": [
    "tweets_df = pd.read_csv(\"tweets_covid_2.csv\")\n",
    "tweets_df.head(3)"
   ]
  },
  {
   "cell_type": "code",
   "execution_count": 9,
   "metadata": {},
   "outputs": [
    {
     "name": "stdout",
     "output_type": "stream",
     "text": [
      "O tweet com mais curtidas (likes) é: \n",
      "Diretor responsável pelo Enem morre de Covid em meio a pressao para adiar exame https://t.co/oINm57SVRG\n",
      "Número de curtidas: 25363\n"
     ]
    }
   ],
   "source": [
    "# Tweets com maior número de LIKES\n",
    "likes_max = np.max(tweets_df['Likes']) #Função max do numpy identifica o valor máximo\n",
    "\n",
    "likes = tweets_df[tweets_df.Likes == likes_max].index[0] #pega o primeiro tweet com valor máximo de curtidas\n",
    "\n",
    "print(\"O tweet com mais curtidas (likes) é: \\n{}\".format(tweets_df['Tweets'][likes]))\n",
    "print(\"Número de curtidas: {}\".format(likes_max))"
   ]
  },
  {
   "cell_type": "code",
   "execution_count": 10,
   "metadata": {},
   "outputs": [
    {
     "name": "stdout",
     "output_type": "stream",
     "text": [
      "1\n"
     ]
    }
   ],
   "source": [
    "print(np.sum(tweets_df['Likes'] == likes_max)) #conta quantos tweets possuem o mesmo valor máximo de curtidas"
   ]
  },
  {
   "cell_type": "code",
   "execution_count": 11,
   "metadata": {},
   "outputs": [
    {
     "name": "stdout",
     "output_type": "stream",
     "text": [
      "O tweet com mais retweet é: \n",
      "Aborto legalizado na Argentina: \"lamento profundamente pela vida das crianças\"  190 mil mortos pela COVID-19 no Brasil: \"não sou coveiro\" https://t.co/SaLVKhNucl\n",
      "Número de retweets: 31075\n"
     ]
    }
   ],
   "source": [
    "retweet_max  = np.max(tweets_df['Retweets']) #retorna o valor máximo\n",
    "\n",
    "retweet  = tweets_df[tweets_df.Retweets == retweet_max].index[0] #pega o primeiro tweet com valor máximo de Retweets\n",
    "\n",
    "print(\"O tweet com mais retweet é: \\n{}\".format(tweets_df['Tweets'][retweet]))\n",
    "print(\"Número de retweets: {}\".format(retweet_max))"
   ]
  },
  {
   "cell_type": "code",
   "execution_count": 12,
   "metadata": {},
   "outputs": [
    {
     "name": "stdout",
     "output_type": "stream",
     "text": [
      "1\n"
     ]
    }
   ],
   "source": [
    "print(np.sum(tweets_df['Retweets'] == retweet_max)) #conta quantos tweets possuem o mesmo valor máximo de Retweets"
   ]
  },
  {
   "cell_type": "code",
   "execution_count": 13,
   "metadata": {},
   "outputs": [
    {
     "ename": "NameError",
     "evalue": "name 'STOPWORDS' is not defined",
     "output_type": "error",
     "traceback": [
      "\u001b[1;31m---------------------------------------------------------------------------\u001b[0m",
      "\u001b[1;31mNameError\u001b[0m                                 Traceback (most recent call last)",
      "\u001b[1;32m<ipython-input-13-7661c410e2a3>\u001b[0m in \u001b[0;36m<module>\u001b[1;34m\u001b[0m\n\u001b[1;32m----> 1\u001b[1;33m \u001b[0mstopwords\u001b[0m\u001b[1;33m=\u001b[0m \u001b[0mset\u001b[0m\u001b[1;33m(\u001b[0m\u001b[0mSTOPWORDS\u001b[0m\u001b[1;33m)\u001b[0m\u001b[1;33m\u001b[0m\u001b[1;33m\u001b[0m\u001b[0m\n\u001b[0m\u001b[0;32m      2\u001b[0m \u001b[1;33m\u001b[0m\u001b[0m\n\u001b[0;32m      3\u001b[0m \u001b[0mnew_words\u001b[0m \u001b[1;33m=\u001b[0m \u001b[1;33m[\u001b[0m\u001b[1;33m]\u001b[0m\u001b[1;33m\u001b[0m\u001b[1;33m\u001b[0m\u001b[0m\n\u001b[0;32m      4\u001b[0m \u001b[1;32mwith\u001b[0m \u001b[0mopen\u001b[0m\u001b[1;33m(\u001b[0m\u001b[1;34m\"stopwords.txt\"\u001b[0m\u001b[1;33m,\u001b[0m \u001b[1;34m'r'\u001b[0m\u001b[1;33m)\u001b[0m \u001b[1;32mas\u001b[0m \u001b[0mf\u001b[0m\u001b[1;33m:\u001b[0m\u001b[1;33m\u001b[0m\u001b[1;33m\u001b[0m\u001b[0m\n\u001b[0;32m      5\u001b[0m     \u001b[1;33m[\u001b[0m\u001b[0mnew_words\u001b[0m\u001b[1;33m.\u001b[0m\u001b[0mappend\u001b[0m\u001b[1;33m(\u001b[0m\u001b[0mword\u001b[0m\u001b[1;33m)\u001b[0m \u001b[1;32mfor\u001b[0m \u001b[0mline\u001b[0m \u001b[1;32min\u001b[0m \u001b[0mf\u001b[0m \u001b[1;32mfor\u001b[0m \u001b[0mword\u001b[0m \u001b[1;32min\u001b[0m \u001b[0mline\u001b[0m\u001b[1;33m.\u001b[0m\u001b[0msplit\u001b[0m\u001b[1;33m(\u001b[0m\u001b[1;33m)\u001b[0m\u001b[1;33m]\u001b[0m\u001b[1;33m\u001b[0m\u001b[1;33m\u001b[0m\u001b[0m\n",
      "\u001b[1;31mNameError\u001b[0m: name 'STOPWORDS' is not defined"
     ]
    }
   ],
   "source": [
    "stopwords= set(STOPWORDS)\n",
    "\n",
    "new_words = []\n",
    "with open(\"stopwords.txt\", 'r') as f:\n",
    "    [new_words.append(word) for line in f for word in line.split()]\n",
    "\n",
    "new_stopwords = stopwords.union(new_words)\n",
    "\n",
    "words = ' '.join(tweets_df['Tweets'])\n",
    "\n",
    "words_clean = \" \".join([word for word in words.split()\n",
    "                            if 'https' not in word\n",
    "                                and not word.startswith('@')\n",
    "                                and word != 'RT'\n",
    "                            ])\n",
    "\n",
    "warnings.simplefilter('ignore')\n",
    "\n",
    "wc = WordCloud(min_font_size=20, \n",
    "               max_font_size=300, \n",
    "               background_color='white', \n",
    "               mode=\"RGB\",\n",
    "               stopwords=new_stopwords,\n",
    "               width=5000, \n",
    "               height=2000,\n",
    "               normalize_plurals= True).generate(words_clean)\n",
    "\n",
    "plt.imshow(wc, interpolation=\"bilinear\")\n",
    "plt.axis(\"off\")\n",
    "plt.savefig('covid_cloud_pt.png', dpi=300)\n",
    "plt.show()"
   ]
  },
  {
   "cell_type": "code",
   "execution_count": null,
   "metadata": {},
   "outputs": [],
   "source": []
  }
 ],
 "metadata": {
  "kernelspec": {
   "display_name": "Python 3",
   "language": "python",
   "name": "python3"
  },
  "language_info": {
   "codemirror_mode": {
    "name": "ipython",
    "version": 3
   },
   "file_extension": ".py",
   "mimetype": "text/x-python",
   "name": "python",
   "nbconvert_exporter": "python",
   "pygments_lexer": "ipython3",
   "version": "3.7.9"
  }
 },
 "nbformat": 4,
 "nbformat_minor": 4
}
