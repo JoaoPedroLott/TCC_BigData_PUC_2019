{
 "cells": [
  {
   "cell_type": "markdown",
   "id": "dabf650f",
   "metadata": {},
   "source": [
    "# Extração dos dados do portal aberto de MG"
   ]
  },
  {
   "cell_type": "code",
   "execution_count": 1,
   "id": "893aeebb",
   "metadata": {
    "ExecuteTime": {
     "end_time": "2021-04-14T00:48:28.428090Z",
     "start_time": "2021-04-14T00:48:28.422129Z"
    }
   },
   "outputs": [],
   "source": [
    "from urllib.request import urlopen\n",
    "from urllib.error import HTTPError\n",
    "from urllib.error import URLError\n",
    "import os\n",
    "import pandas as pd"
   ]
  },
  {
   "cell_type": "markdown",
   "id": "283aff35",
   "metadata": {},
   "source": [
    "### Define as URLs"
   ]
  },
  {
   "cell_type": "code",
   "execution_count": 2,
   "id": "bd255aa3",
   "metadata": {
    "ExecuteTime": {
     "end_time": "2021-04-14T00:42:29.716463Z",
     "start_time": "2021-04-14T00:42:29.712453Z"
    }
   },
   "outputs": [],
   "source": [
    "#URL base\n",
    "#Óbitos confirmados COVID-19 (Portal de dados abertos do estado de MG)\n",
    "urlObitos = 'http://dados.mg.gov.br/dataset/165f1292-f9c5-474a-b717-befd83595df5/resource/e5732e33-306f-422c-87b7-257c2e283de1/download/obitos-confirmados-covid-19.csv'\n",
    "#Casos confirmados COVID-19 (Portal de dados abertos do estado de MG)\n",
    "urlCasos = 'http://dados.mg.gov.br/datastore/dump/8a1743d9-e689-4112-afb3-8247369b63d7?bom=True'"
   ]
  },
  {
   "cell_type": "markdown",
   "id": "05f674cb",
   "metadata": {},
   "source": [
    "### Verifica se as URLs estão acessíveis"
   ]
  },
  {
   "cell_type": "code",
   "execution_count": 3,
   "id": "d85c3636",
   "metadata": {
    "ExecuteTime": {
     "end_time": "2021-04-14T00:42:31.870689Z",
     "start_time": "2021-04-14T00:42:31.522638Z"
    }
   },
   "outputs": [
    {
     "name": "stdout",
     "output_type": "stream",
     "text": [
      "Successfully connected!\n",
      "Successfully connected!\n"
     ]
    }
   ],
   "source": [
    "try:\n",
    "    teste = urlopen(urlObitos)\n",
    "    print('Successfully connected!')\n",
    "except HTTPError as e:\n",
    "    #Erros HTTP\n",
    "    print(e)\n",
    "except URLError as e:\n",
    "    #URL errada\n",
    "    print('The server could not be found!')\n",
    "\n",
    "try:\n",
    "    teste = urlopen(urlCasos)\n",
    "    print('Successfully connected!')\n",
    "except HTTPError as e:\n",
    "    #Erros HTTP\n",
    "    print(e)\n",
    "except URLError as e:\n",
    "    #URL errada\n",
    "    print('The server could not be found!')"
   ]
  },
  {
   "cell_type": "markdown",
   "id": "c3eb76dc",
   "metadata": {},
   "source": [
    "### Cria um diretório para armezenar os arquivos"
   ]
  },
  {
   "cell_type": "code",
   "execution_count": 4,
   "id": "56210e1e",
   "metadata": {
    "ExecuteTime": {
     "end_time": "2021-04-14T01:31:36.514785Z",
     "start_time": "2021-04-14T01:31:36.508824Z"
    }
   },
   "outputs": [],
   "source": [
    "# Criar um diretório para armazenar o conteúdo do Enade\n",
    "os.makedirs('./Dados', exist_ok=True)"
   ]
  },
  {
   "cell_type": "markdown",
   "id": "8f06756b",
   "metadata": {},
   "source": [
    "### Utiliza o pandas para buscar o arquivo pela URL e salvar no diretório criado"
   ]
  },
  {
   "cell_type": "code",
   "execution_count": 5,
   "id": "7543865d",
   "metadata": {
    "ExecuteTime": {
     "end_time": "2021-04-14T00:42:35.395241Z",
     "start_time": "2021-04-14T00:42:35.222216Z"
    }
   },
   "outputs": [
    {
     "data": {
      "text/html": [
       "<div>\n",
       "<style scoped>\n",
       "    .dataframe tbody tr th:only-of-type {\n",
       "        vertical-align: middle;\n",
       "    }\n",
       "\n",
       "    .dataframe tbody tr th {\n",
       "        vertical-align: top;\n",
       "    }\n",
       "\n",
       "    .dataframe thead th {\n",
       "        text-align: right;\n",
       "    }\n",
       "</style>\n",
       "<table border=\"1\" class=\"dataframe\">\n",
       "  <thead>\n",
       "    <tr style=\"text-align: right;\">\n",
       "      <th></th>\n",
       "      <th>PACIENTE</th>\n",
       "      <th>SEXO</th>\n",
       "      <th>IDADE</th>\n",
       "      <th>MUNICIPIO_RESIDENCIA</th>\n",
       "      <th>DATA_OBITO</th>\n",
       "      <th>COMORBIDADE</th>\n",
       "    </tr>\n",
       "  </thead>\n",
       "  <tbody>\n",
       "    <tr>\n",
       "      <th>0</th>\n",
       "      <td>1</td>\n",
       "      <td>M</td>\n",
       "      <td>79</td>\n",
       "      <td>Patos de Minas</td>\n",
       "      <td>28/03/2020</td>\n",
       "      <td>SIM</td>\n",
       "    </tr>\n",
       "    <tr>\n",
       "      <th>1</th>\n",
       "      <td>2</td>\n",
       "      <td>F</td>\n",
       "      <td>82</td>\n",
       "      <td>Belo Horizonte</td>\n",
       "      <td>29/03/2020</td>\n",
       "      <td>SIM</td>\n",
       "    </tr>\n",
       "    <tr>\n",
       "      <th>2</th>\n",
       "      <td>3</td>\n",
       "      <td>M</td>\n",
       "      <td>66</td>\n",
       "      <td>Belo Horizonte</td>\n",
       "      <td>30/03/2020</td>\n",
       "      <td>SIM</td>\n",
       "    </tr>\n",
       "    <tr>\n",
       "      <th>3</th>\n",
       "      <td>4</td>\n",
       "      <td>M</td>\n",
       "      <td>44</td>\n",
       "      <td>Mariana</td>\n",
       "      <td>30/03/2020</td>\n",
       "      <td>NÃO</td>\n",
       "    </tr>\n",
       "    <tr>\n",
       "      <th>4</th>\n",
       "      <td>5</td>\n",
       "      <td>M</td>\n",
       "      <td>80</td>\n",
       "      <td>Uberlândia</td>\n",
       "      <td>30/03/2020</td>\n",
       "      <td>SIM</td>\n",
       "    </tr>\n",
       "  </tbody>\n",
       "</table>\n",
       "</div>"
      ],
      "text/plain": [
       "   PACIENTE SEXO  IDADE MUNICIPIO_RESIDENCIA  DATA_OBITO COMORBIDADE\n",
       "0         1    M     79       Patos de Minas  28/03/2020         SIM\n",
       "1         2    F     82       Belo Horizonte  29/03/2020         SIM\n",
       "2         3    M     66       Belo Horizonte  30/03/2020         SIM\n",
       "3         4    M     44              Mariana  30/03/2020         NÃO\n",
       "4         5    M     80           Uberlândia  30/03/2020         SIM"
      ]
     },
     "execution_count": 5,
     "metadata": {},
     "output_type": "execute_result"
    }
   ],
   "source": [
    "dataFrameObitos = pd.read_csv(urlObitos, sep=';')\n",
    "dataFrameObitos.to_csv(\"./Dados/ObitosConfirmados.csv\")\n",
    "dataFrameObitos.head()"
   ]
  },
  {
   "cell_type": "markdown",
   "id": "cf844575",
   "metadata": {
    "ExecuteTime": {
     "end_time": "2021-04-14T00:43:04.091772Z",
     "start_time": "2021-04-14T00:42:38.294429Z"
    }
   },
   "source": [
    "### Utiliza a função urlretrieve para fazer o download do arquivo de casos confirmados"
   ]
  },
  {
   "cell_type": "code",
   "execution_count": 6,
   "id": "3dd1bb2f",
   "metadata": {
    "ExecuteTime": {
     "end_time": "2021-04-14T01:30:47.621695Z",
     "start_time": "2021-04-14T01:30:34.465731Z"
    }
   },
   "outputs": [
    {
     "data": {
      "text/html": [
       "<div>\n",
       "<style scoped>\n",
       "    .dataframe tbody tr th:only-of-type {\n",
       "        vertical-align: middle;\n",
       "    }\n",
       "\n",
       "    .dataframe tbody tr th {\n",
       "        vertical-align: top;\n",
       "    }\n",
       "\n",
       "    .dataframe thead th {\n",
       "        text-align: right;\n",
       "    }\n",
       "</style>\n",
       "<table border=\"1\" class=\"dataframe\">\n",
       "  <thead>\n",
       "    <tr style=\"text-align: right;\">\n",
       "      <th></th>\n",
       "      <th>_id</th>\n",
       "      <th>URS</th>\n",
       "      <th>MICRO</th>\n",
       "      <th>MACRO</th>\n",
       "      <th>ID</th>\n",
       "      <th>DATA_NOTIFICACAO</th>\n",
       "      <th>CLASSIFICACAO_CASO</th>\n",
       "      <th>SEXO</th>\n",
       "      <th>IDADE</th>\n",
       "      <th>FAIXA_ETARIA</th>\n",
       "      <th>MUNICIPIO_RESIDENCIA</th>\n",
       "      <th>CODIGO</th>\n",
       "      <th>COMORBIDADE</th>\n",
       "      <th>EVOLUCAO</th>\n",
       "      <th>INTERNACAO</th>\n",
       "      <th>UTI</th>\n",
       "      <th>RACA</th>\n",
       "      <th>DATA_ATUALIZACAO</th>\n",
       "      <th>ORIGEM_DA_INFORMACAO</th>\n",
       "    </tr>\n",
       "  </thead>\n",
       "  <tbody>\n",
       "    <tr>\n",
       "      <th>0</th>\n",
       "      <td>1</td>\n",
       "      <td>NaN</td>\n",
       "      <td>NaN</td>\n",
       "      <td>NaN</td>\n",
       "      <td>1</td>\n",
       "      <td>2020-05-15T00:00:00</td>\n",
       "      <td>CASO CONFIRMADO</td>\n",
       "      <td>MASCULINO</td>\n",
       "      <td>0.0</td>\n",
       "      <td>&lt;1ANO</td>\n",
       "      <td>NAO INFORMADO</td>\n",
       "      <td>NaN</td>\n",
       "      <td>NAO INFORMADO</td>\n",
       "      <td>RECUPERADO</td>\n",
       "      <td>NAO INFORMADO</td>\n",
       "      <td>NAO INFORMADO</td>\n",
       "      <td>NAO INFORMADO</td>\n",
       "      <td>2020-08-13T00:00:00</td>\n",
       "      <td>ESUS</td>\n",
       "    </tr>\n",
       "    <tr>\n",
       "      <th>1</th>\n",
       "      <td>2</td>\n",
       "      <td>JUIZ DE FORA</td>\n",
       "      <td>JUIZ DE FORA</td>\n",
       "      <td>SUDESTE</td>\n",
       "      <td>2</td>\n",
       "      <td>2020-05-08T00:00:00</td>\n",
       "      <td>CASO CONFIRMADO</td>\n",
       "      <td>MASCULINO</td>\n",
       "      <td>33.0</td>\n",
       "      <td>30 A 39 ANOS</td>\n",
       "      <td>JUIZ DE FORA</td>\n",
       "      <td>313670.0</td>\n",
       "      <td>NAO INFORMADO</td>\n",
       "      <td>RECUPERADO</td>\n",
       "      <td>NAO</td>\n",
       "      <td>NAO</td>\n",
       "      <td>NAO INFORMADO</td>\n",
       "      <td>2020-08-13T00:00:00</td>\n",
       "      <td>ESUS</td>\n",
       "    </tr>\n",
       "    <tr>\n",
       "      <th>2</th>\n",
       "      <td>3</td>\n",
       "      <td>GOVERNADOR VALADARES</td>\n",
       "      <td>GOVERNADOR VALADARES</td>\n",
       "      <td>LESTE</td>\n",
       "      <td>3</td>\n",
       "      <td>2020-06-19T00:00:00</td>\n",
       "      <td>CASO CONFIRMADO</td>\n",
       "      <td>FEMININO</td>\n",
       "      <td>25.0</td>\n",
       "      <td>20 A 29 ANOS</td>\n",
       "      <td>GOVERNADOR VALADARES</td>\n",
       "      <td>312770.0</td>\n",
       "      <td>NAO</td>\n",
       "      <td>EM ACOMPANHAMENTO</td>\n",
       "      <td>NAO</td>\n",
       "      <td>NAO</td>\n",
       "      <td>NAO INFORMADO</td>\n",
       "      <td>2020-08-13T00:00:00</td>\n",
       "      <td>ESUS</td>\n",
       "    </tr>\n",
       "    <tr>\n",
       "      <th>3</th>\n",
       "      <td>4</td>\n",
       "      <td>NaN</td>\n",
       "      <td>NaN</td>\n",
       "      <td>NaN</td>\n",
       "      <td>4</td>\n",
       "      <td>2020-06-14T00:00:00</td>\n",
       "      <td>CASO CONFIRMADO</td>\n",
       "      <td>MASCULINO</td>\n",
       "      <td>36.0</td>\n",
       "      <td>30 A 39 ANOS</td>\n",
       "      <td>NAO INFORMADO</td>\n",
       "      <td>NaN</td>\n",
       "      <td>NAO INFORMADO</td>\n",
       "      <td>EM ACOMPANHAMENTO</td>\n",
       "      <td>NAO INFORMADO</td>\n",
       "      <td>NAO INFORMADO</td>\n",
       "      <td>NAO INFORMADO</td>\n",
       "      <td>2020-08-13T00:00:00</td>\n",
       "      <td>ESUS</td>\n",
       "    </tr>\n",
       "    <tr>\n",
       "      <th>4</th>\n",
       "      <td>5</td>\n",
       "      <td>TEOFILO OTONI</td>\n",
       "      <td>TEOFILO OTONI/MALACACHETA</td>\n",
       "      <td>NORDESTE</td>\n",
       "      <td>5</td>\n",
       "      <td>2020-06-14T00:00:00</td>\n",
       "      <td>CASO CONFIRMADO</td>\n",
       "      <td>MASCULINO</td>\n",
       "      <td>51.0</td>\n",
       "      <td>50 A 59 ANOS</td>\n",
       "      <td>TEOFILO OTONI</td>\n",
       "      <td>316860.0</td>\n",
       "      <td>NAO INFORMADO</td>\n",
       "      <td>INVESTIGACAO</td>\n",
       "      <td>SIM</td>\n",
       "      <td>NAO</td>\n",
       "      <td>NAO INFORMADO</td>\n",
       "      <td>2020-08-13T00:00:00</td>\n",
       "      <td>SIVEP</td>\n",
       "    </tr>\n",
       "  </tbody>\n",
       "</table>\n",
       "</div>"
      ],
      "text/plain": [
       "   _id                   URS                      MICRO     MACRO  ID  \\\n",
       "0    1                   NaN                        NaN       NaN   1   \n",
       "1    2          JUIZ DE FORA               JUIZ DE FORA   SUDESTE   2   \n",
       "2    3  GOVERNADOR VALADARES       GOVERNADOR VALADARES     LESTE   3   \n",
       "3    4                   NaN                        NaN       NaN   4   \n",
       "4    5         TEOFILO OTONI  TEOFILO OTONI/MALACACHETA  NORDESTE   5   \n",
       "\n",
       "      DATA_NOTIFICACAO CLASSIFICACAO_CASO       SEXO  IDADE  FAIXA_ETARIA  \\\n",
       "0  2020-05-15T00:00:00    CASO CONFIRMADO  MASCULINO    0.0         <1ANO   \n",
       "1  2020-05-08T00:00:00    CASO CONFIRMADO  MASCULINO   33.0  30 A 39 ANOS   \n",
       "2  2020-06-19T00:00:00    CASO CONFIRMADO   FEMININO   25.0  20 A 29 ANOS   \n",
       "3  2020-06-14T00:00:00    CASO CONFIRMADO  MASCULINO   36.0  30 A 39 ANOS   \n",
       "4  2020-06-14T00:00:00    CASO CONFIRMADO  MASCULINO   51.0  50 A 59 ANOS   \n",
       "\n",
       "   MUNICIPIO_RESIDENCIA    CODIGO    COMORBIDADE           EVOLUCAO  \\\n",
       "0         NAO INFORMADO       NaN  NAO INFORMADO         RECUPERADO   \n",
       "1          JUIZ DE FORA  313670.0  NAO INFORMADO         RECUPERADO   \n",
       "2  GOVERNADOR VALADARES  312770.0            NAO  EM ACOMPANHAMENTO   \n",
       "3         NAO INFORMADO       NaN  NAO INFORMADO  EM ACOMPANHAMENTO   \n",
       "4         TEOFILO OTONI  316860.0  NAO INFORMADO       INVESTIGACAO   \n",
       "\n",
       "      INTERNACAO            UTI           RACA     DATA_ATUALIZACAO  \\\n",
       "0  NAO INFORMADO  NAO INFORMADO  NAO INFORMADO  2020-08-13T00:00:00   \n",
       "1            NAO            NAO  NAO INFORMADO  2020-08-13T00:00:00   \n",
       "2            NAO            NAO  NAO INFORMADO  2020-08-13T00:00:00   \n",
       "3  NAO INFORMADO  NAO INFORMADO  NAO INFORMADO  2020-08-13T00:00:00   \n",
       "4            SIM            NAO  NAO INFORMADO  2020-08-13T00:00:00   \n",
       "\n",
       "  ORIGEM_DA_INFORMACAO  \n",
       "0                 ESUS  \n",
       "1                 ESUS  \n",
       "2                 ESUS  \n",
       "3                 ESUS  \n",
       "4                SIVEP  "
      ]
     },
     "execution_count": 6,
     "metadata": {},
     "output_type": "execute_result"
    }
   ],
   "source": [
    "dataFrameCasos = pd.read_csv(urlCasos, sep=',')\n",
    "dataFrameCasos.to_csv(\"./Dados/CasosConfirmados.csv\")\n",
    "dataFrameCasos.head()"
   ]
  }
 ],
 "metadata": {
  "kernelspec": {
   "display_name": "Python 3",
   "language": "python",
   "name": "python3"
  },
  "language_info": {
   "codemirror_mode": {
    "name": "ipython",
    "version": 3
   },
   "file_extension": ".py",
   "mimetype": "text/x-python",
   "name": "python",
   "nbconvert_exporter": "python",
   "pygments_lexer": "ipython3",
   "version": "3.7.9"
  }
 },
 "nbformat": 4,
 "nbformat_minor": 5
}
