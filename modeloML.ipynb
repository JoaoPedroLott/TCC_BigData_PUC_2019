{
 "cells": [
  {
   "cell_type": "markdown",
   "id": "8713f353",
   "metadata": {},
   "source": [
    "# Aplicando uma árvore de decisão sobre os dados de casos confirmados de COVID-19"
   ]
  },
  {
   "cell_type": "markdown",
   "id": "84fa9de6",
   "metadata": {},
   "source": [
    "### Importar as bibliotecas necessárias para a análise"
   ]
  },
  {
   "cell_type": "code",
   "execution_count": null,
   "id": "8ab7e211",
   "metadata": {},
   "outputs": [],
   "source": [
    "import pandas as pd\n",
    "import numpy  as np\n",
    "\n",
    "from sklearn import model_selection as ms\n",
    "from sklearn import tree\n",
    "from sklearn.model_selection import cross_val_score\n",
    "from sklearn.metrics import accuracy_score, confusion_matrix"
   ]
  },
  {
   "cell_type": "markdown",
   "id": "e809a2e0",
   "metadata": {},
   "source": [
    "### Importar o arquivo"
   ]
  },
  {
   "cell_type": "code",
   "execution_count": null,
   "id": "ecc59bdb",
   "metadata": {},
   "outputs": [],
   "source": [
    "dataFrameCasos = pd.read_csv('./Dados/CasosConfirmados.csv', sep=',')\n",
    "dataFrameCasos.head()"
   ]
  },
  {
   "cell_type": "code",
   "execution_count": null,
   "id": "e9f06407",
   "metadata": {},
   "outputs": [],
   "source": [
    "df1 = dataFrameCasos.copy()"
   ]
  },
  {
   "cell_type": "markdown",
   "id": "35bd833b",
   "metadata": {},
   "source": [
    "### Ajustar as variáveis que vão ser utilizadas como parâmetros"
   ]
  },
  {
   "cell_type": "code",
   "execution_count": null,
   "id": "880512e1",
   "metadata": {},
   "outputs": [],
   "source": [
    "df1[\"SEXO\"] = df1.SEXO.replace({\n",
    "    'MASCULINO': 1,\n",
    "    'FEMININO': 2,\n",
    "    'NAO INFORMADO': 3\n",
    "})\n",
    "\n",
    "df1[\"COMORBIDADE\"] = df1.COMORBIDADE.replace({\n",
    "    'SIM': 1,\n",
    "    'NAO': 2,\n",
    "    'NAO INFORMADO': 3\n",
    "})\n",
    "\n",
    "df1[\"INTERNACAO\"] = df1.INTERNACAO.replace({\n",
    "    'SIM': 1,\n",
    "    'NAO': 2,\n",
    "    'NAO INFORMADO': 3\n",
    "})"
   ]
  },
  {
   "cell_type": "markdown",
   "id": "271f4b31",
   "metadata": {},
   "source": [
    "### Separar os dados entre parâmetros e resposta"
   ]
  },
  {
   "cell_type": "code",
   "execution_count": null,
   "id": "d4522fb1",
   "metadata": {},
   "outputs": [],
   "source": [
    "X = df1[['SEXO', 'IDADE', 'COMORBIDADE']].copy()\n",
    "\n",
    "Y = df1['INTERNACAO'].copy()"
   ]
  },
  {
   "cell_type": "code",
   "execution_count": null,
   "id": "dd4445f3",
   "metadata": {},
   "outputs": [],
   "source": [
    "X.head()"
   ]
  },
  {
   "cell_type": "code",
   "execution_count": null,
   "id": "46f9cdc7",
   "metadata": {},
   "outputs": [],
   "source": [
    "Y.head()"
   ]
  },
  {
   "cell_type": "markdown",
   "id": "94c22c11",
   "metadata": {},
   "source": [
    "### Gerar os dados de teste e treino"
   ]
  },
  {
   "cell_type": "code",
   "execution_count": null,
   "id": "a446fa55",
   "metadata": {},
   "outputs": [],
   "source": [
    "x_train, x_test, y_train, y_test = ms.train_test_split( X, Y, test_size=0.2, random_state=42 )"
   ]
  },
  {
   "cell_type": "markdown",
   "id": "ae110fbe",
   "metadata": {},
   "source": [
    "### Definir o modelo da árvore"
   ]
  },
  {
   "cell_type": "code",
   "execution_count": null,
   "id": "b60def79",
   "metadata": {},
   "outputs": [],
   "source": [
    "clf = tree.DecisionTreeClassifier( random_state=1994,\n",
    "                                   criterion='gini',\n",
    "                                   max_depth=8\n",
    "                                 )"
   ]
  },
  {
   "cell_type": "markdown",
   "id": "f7456a14",
   "metadata": {},
   "source": [
    "### Mais alguns ajustes nas variáveis"
   ]
  },
  {
   "cell_type": "code",
   "execution_count": null,
   "id": "277ee87c",
   "metadata": {},
   "outputs": [],
   "source": [
    "x_train = x_train.fillna(x_train.mean())\n",
    "x_test = x_test.fillna(x_test.mean())\n",
    "X = X.fillna(X.mean())"
   ]
  },
  {
   "cell_type": "markdown",
   "id": "a6677727",
   "metadata": {},
   "source": [
    "### Aqui temos o treinamento do algorítimo e logo em seguida a previsão"
   ]
  },
  {
   "cell_type": "code",
   "execution_count": null,
   "id": "4c4e3eef",
   "metadata": {},
   "outputs": [],
   "source": [
    "arvore = clf.fit(x_train, y_train)"
   ]
  },
  {
   "cell_type": "code",
   "execution_count": null,
   "id": "27a843e4",
   "metadata": {},
   "outputs": [],
   "source": [
    "predict = arvore.predict(x_test)"
   ]
  },
  {
   "cell_type": "markdown",
   "id": "3515ac54",
   "metadata": {},
   "source": [
    "### Agora vamos avaliar o modelo criado"
   ]
  },
  {
   "cell_type": "code",
   "execution_count": null,
   "id": "e32f0107",
   "metadata": {},
   "outputs": [],
   "source": [
    "scores_dt = cross_val_score(arvore, X, Y,\n",
    "                            scoring='accuracy', cv=3)\n",
    "\n",
    "print(scores_dt.mean())"
   ]
  },
  {
   "cell_type": "code",
   "execution_count": null,
   "id": "a7169677",
   "metadata": {},
   "outputs": [],
   "source": [
    "accuracy_score(y_test, predict)*100"
   ]
  },
  {
   "cell_type": "code",
   "execution_count": null,
   "id": "a3a46fa2",
   "metadata": {},
   "outputs": [],
   "source": [
    "confusion_matrix(y_test, predict)"
   ]
  }
 ],
 "metadata": {
  "kernelspec": {
   "display_name": "Python 3",
   "language": "python",
   "name": "python3"
  },
  "language_info": {
   "codemirror_mode": {
    "name": "ipython",
    "version": 3
   },
   "file_extension": ".py",
   "mimetype": "text/x-python",
   "name": "python",
   "nbconvert_exporter": "python",
   "pygments_lexer": "ipython3",
   "version": "3.7.9"
  }
 },
 "nbformat": 4,
 "nbformat_minor": 5
}
