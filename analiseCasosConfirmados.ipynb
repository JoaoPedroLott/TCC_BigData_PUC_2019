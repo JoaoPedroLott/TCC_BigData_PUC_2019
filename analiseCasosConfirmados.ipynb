{
 "cells": [
  {
   "cell_type": "markdown",
   "id": "5a7c90f9",
   "metadata": {},
   "source": [
    "# Análise dos dados de casos confirmados por covid no estado de Minas Gerais"
   ]
  },
  {
   "cell_type": "markdown",
   "id": "44af754c",
   "metadata": {},
   "source": [
    "### Importar as bibliotecas necessárias para a análise"
   ]
  },
  {
   "cell_type": "code",
   "execution_count": null,
   "id": "d610bfdf",
   "metadata": {},
   "outputs": [],
   "source": [
    "import pandas as pd\n",
    "import numpy as np\n",
    "import matplotlib.pyplot as plt\n",
    "import seaborn as sns"
   ]
  },
  {
   "cell_type": "markdown",
   "id": "c1ef9b54",
   "metadata": {},
   "source": [
    "### Importar o arquivo"
   ]
  },
  {
   "cell_type": "code",
   "execution_count": null,
   "id": "36d8fc7f",
   "metadata": {},
   "outputs": [],
   "source": [
    "dataFrameCasos = pd.read_csv('./Dados/CasosConfirmados.csv', sep=',')\n",
    "dataFrameCasos.head()"
   ]
  },
  {
   "cell_type": "markdown",
   "id": "72400475",
   "metadata": {},
   "source": [
    "### Verificar os tipos de dados do dataframe"
   ]
  },
  {
   "cell_type": "code",
   "execution_count": null,
   "id": "577d86a8",
   "metadata": {},
   "outputs": [],
   "source": [
    "dataFrameCasos.dtypes"
   ]
  },
  {
   "cell_type": "markdown",
   "id": "4f0f0802",
   "metadata": {},
   "source": [
    "### Agora vamos converter alguns tipos de dados"
   ]
  },
  {
   "cell_type": "code",
   "execution_count": null,
   "id": "92d93187",
   "metadata": {},
   "outputs": [],
   "source": [
    "dataFrameCasos['DATA_NOTIFICACAO'] = pd.to_datetime (dataFrameCasos['DATA_NOTIFICACAO'])\n",
    "#dataFrameCasos['IDADE'] = dataFrameCasos['IDADE'].astype(int)\n",
    "dataFrameCasos.dtypes"
   ]
  },
  {
   "cell_type": "markdown",
   "id": "a4207977",
   "metadata": {},
   "source": [
    "### Verificar a quantidade de registros e quantos deles são nulos"
   ]
  },
  {
   "cell_type": "code",
   "execution_count": null,
   "id": "1e5df7ed",
   "metadata": {},
   "outputs": [],
   "source": [
    "print(dataFrameCasos.isna().sum())\n",
    "print(' ')\n",
    "print('Total de registros: ',dataFrameCasos.ID.count())"
   ]
  },
  {
   "cell_type": "code",
   "execution_count": null,
   "id": "511d959a",
   "metadata": {},
   "outputs": [],
   "source": [
    "dataFrameCasos.to_csv(\"./Dados/CasosConfirmadosTratado.csv\")"
   ]
  },
  {
   "cell_type": "markdown",
   "id": "1642ab47",
   "metadata": {},
   "source": [
    "### Neste gráfico de linha temos uma relação da quantidade de casos por dia"
   ]
  },
  {
   "cell_type": "code",
   "execution_count": null,
   "id": "36467864",
   "metadata": {},
   "outputs": [],
   "source": [
    "dataFrameCasos.groupby('DATA_NOTIFICACAO')[['ID']].size().plot(legend=None)\n",
    "plt.title('Casos por dia')\n",
    "plt.xlabel('Data')\n",
    "plt.ylabel('Quantidade de casos')\n",
    "plt.savefig(\"./Imagens/CasosXDia.png\")\n",
    "plt.show()"
   ]
  },
  {
   "cell_type": "markdown",
   "id": "3b5ba133",
   "metadata": {},
   "source": [
    "### Aqui temos um gráfico de barras mostrando a quantidade de casos confirmados agrupados por idade"
   ]
  },
  {
   "cell_type": "code",
   "execution_count": null,
   "id": "dbd0461c",
   "metadata": {},
   "outputs": [],
   "source": [
    "dfGrafico = dataFrameCasos.groupby('IDADE')[['CLASSIFICACAO_CASO']].count()\n",
    "\n",
    "fig, ax = plt.subplots(figsize=(30,5))\n",
    "\n",
    "sns.barplot(x=dfGrafico.index, y=dfGrafico.CLASSIFICACAO_CASO, ax=ax, data=dfGrafico)\n",
    "\n",
    "ax.set_title(\"Casos confirmados X Idade\", fontdict={'fontsize':15})\n",
    "ax.set_xlabel('Idade', fontdict={'fontsize':14})\n",
    "ax.set_ylabel('Casos', fontdict={'fontsize':14})\n",
    "ax.tick_params(labelsize=15)\n",
    "plt.xticks(rotation=75)\n",
    "\n",
    "for axis in ['top', 'right']:\n",
    "   ax.spines[axis].set_color(None)\n",
    "\n",
    "fig.savefig(\"./Imagens/CasosXIdade.png\")\n",
    "fig.tight_layout();"
   ]
  },
  {
   "cell_type": "markdown",
   "id": "0c58a112",
   "metadata": {},
   "source": [
    "### Aqui temos um gráfico de barras mostrando a quantidade de casos agrupados por comorbidade"
   ]
  },
  {
   "cell_type": "code",
   "execution_count": null,
   "id": "a6b29e29",
   "metadata": {},
   "outputs": [],
   "source": [
    "comorbidade = dataFrameCasos.groupby(\"COMORBIDADE\")['CLASSIFICACAO_CASO'].count().reset_index()\n",
    "\n",
    "fig, ax = plt.subplots()\n",
    "\n",
    "plot = sns.barplot(x=comorbidade['COMORBIDADE'], y=comorbidade['CLASSIFICACAO_CASO'], ax=ax, data=comorbidade)\n",
    "for p in plot.patches:\n",
    "    plot.annotate(format(p.get_height(), '.0f'), \n",
    "                   (p.get_x() + p.get_width() / 2., p.get_height()), \n",
    "                   ha = 'center', va = 'center', \n",
    "                   xytext = (0, 9), \n",
    "                   textcoords = 'offset points')\n",
    "\n",
    "ax.set_title(\"Casos X Comorbidade\", fontdict={'fontsize':15})\n",
    "ax.set_xlabel('Comorbidade', fontdict={'fontsize':14})\n",
    "ax.set_ylabel('Casos', fontdict={'fontsize':14})\n",
    "ax.tick_params(labelsize=13)\n",
    "\n",
    "for axis in ['top', 'right']:\n",
    "   ax.spines[axis].set_color(None)\n",
    "\n",
    "fig.savefig(\"./Imagens/CasosXComorbidade.png\")\n",
    "fig.tight_layout();"
   ]
  },
  {
   "cell_type": "markdown",
   "id": "022d7a89",
   "metadata": {},
   "source": [
    "### Neste gráfico temos um quantitativo de casos por município, trazendo os top 20"
   ]
  },
  {
   "cell_type": "code",
   "execution_count": null,
   "id": "68084ac4",
   "metadata": {},
   "outputs": [],
   "source": [
    "#Cria um grafico de barras separando a quantidade de mortes por municipo de residencia (TOP 20)\n",
    "municipios = dataFrameCasos.groupby(\"MUNICIPIO_RESIDENCIA\")['CLASSIFICACAO_CASO'].count().reset_index()\n",
    "\n",
    "# Encontrar os 20 municipios com o maior numero de mortes\n",
    "top_20 = municipios.sort_values(by=['CLASSIFICACAO_CASO'], ascending=False).head(20)\n",
    "\n",
    "fig, ax = plt.subplots(figsize=(12,10))\n",
    "\n",
    "plot = sns.barplot(top_20['CLASSIFICACAO_CASO'], top_20['MUNICIPIO_RESIDENCIA'])\n",
    "for i,(value,name) in enumerate(zip(top_20['CLASSIFICACAO_CASO'],top_20['MUNICIPIO_RESIDENCIA'])):\n",
    "    plot.text(value,i-0.05,f'{value:,.0f}',size=10)\n",
    "    \n",
    "ax.set_title(\"Municipio X Casos\", fontdict={'fontsize':15})\n",
    "ax.set_xlabel('Casos', fontdict={'fontsize':14})\n",
    "ax.set_ylabel('Municipios', fontdict={'fontsize':14})\n",
    "ax.tick_params(labelsize=13)\n",
    "\n",
    "plt.savefig(\"./Imagens/CasosXMunicipios.png\")\n",
    "plt.show()"
   ]
  },
  {
   "cell_type": "markdown",
   "id": "2797718f",
   "metadata": {},
   "source": [
    "### Neste gráfico temos um quantitativo de casos por região do estado"
   ]
  },
  {
   "cell_type": "code",
   "execution_count": null,
   "id": "0b0297f8",
   "metadata": {},
   "outputs": [],
   "source": [
    "#Cria um grafico de barras separando a quantidade de mortes por municipo de residencia (TOP 20)\n",
    "regiao = dataFrameCasos.groupby(\"MACRO\")['CLASSIFICACAO_CASO'].count().reset_index()\n",
    "\n",
    "# Encontrar os 20 municipios com o maior numero de mortes\n",
    "regiaoOrd = regiao.sort_values(by=['CLASSIFICACAO_CASO'], ascending=False)\n",
    "\n",
    "fig, ax = plt.subplots(figsize=(12,10))\n",
    "\n",
    "plot = sns.barplot(regiaoOrd['CLASSIFICACAO_CASO'], regiaoOrd['MACRO'])\n",
    "for i,(value,name) in enumerate(zip(regiaoOrd['CLASSIFICACAO_CASO'],regiaoOrd['MACRO'])):\n",
    "    plot.text(value,i-0.05,f'{value:,.0f}',size=10)\n",
    "    \n",
    "ax.set_title(\"Casos X Região\", fontdict={'fontsize':15})\n",
    "ax.set_xlabel('Casos', fontdict={'fontsize':14})\n",
    "ax.set_ylabel('Região', fontdict={'fontsize':14})\n",
    "ax.tick_params(labelsize=13)\n",
    "\n",
    "plt.savefig(\"./Imagens/CasosXRegiao.png\")\n",
    "plt.show()"
   ]
  },
  {
   "cell_type": "markdown",
   "id": "0a841734",
   "metadata": {},
   "source": [
    "### Agora temos um gráfico de pizza mostrando a quantidade de casos agrupada por sexo"
   ]
  },
  {
   "cell_type": "code",
   "execution_count": null,
   "id": "65f60bb5",
   "metadata": {},
   "outputs": [],
   "source": [
    "pie_sexo = dataFrameCasos.groupby('SEXO')[['CLASSIFICACAO_CASO']].count()\n",
    "\n",
    "# Pie chart, where the slices will be ordered and plotted counter-clockwise:\n",
    "labels = pie_sexo.index\n",
    "sizes = pie_sexo['CLASSIFICACAO_CASO']\n",
    "\n",
    "fig1, ax1 = plt.subplots()\n",
    "ax1.pie(sizes, labels=labels, autopct='%1.1f%%',\n",
    "        shadow=True, startangle=90)\n",
    "ax1.axis('equal')  # Equal aspect ratio ensures that pie is drawn as a circle.\n",
    "\n",
    "plt.savefig(\"./Imagens/CasosXSexo.png\")\n",
    "plt.show()"
   ]
  },
  {
   "cell_type": "markdown",
   "id": "3a64827b",
   "metadata": {},
   "source": [
    "### Gráfico mostrando um relação da evolução das pessoas que tiveram um caso confirmado de covid"
   ]
  },
  {
   "cell_type": "code",
   "execution_count": null,
   "id": "0ba15668",
   "metadata": {},
   "outputs": [],
   "source": [
    "evolucao = dataFrameCasos.groupby(\"EVOLUCAO\")['CLASSIFICACAO_CASO'].count().reset_index()\n",
    "\n",
    "fig, ax = plt.subplots()\n",
    "\n",
    "plot = sns.barplot(x=evolucao['EVOLUCAO'], y=evolucao['CLASSIFICACAO_CASO'], ax=ax, data=evolucao)\n",
    "for p in plot.patches:\n",
    "    plot.annotate(format(p.get_height(), '.0f'), \n",
    "                   (p.get_x() + p.get_width() / 2., p.get_height()), \n",
    "                   ha = 'center', va = 'center', \n",
    "                   xytext = (0, 9), \n",
    "                   textcoords = 'offset points')\n",
    "\n",
    "ax.set_title(\"Evolução dos casos\", fontdict={'fontsize':15})\n",
    "ax.set_xlabel('Status', fontdict={'fontsize':13})\n",
    "ax.set_ylabel('Casos', fontdict={'fontsize':13})\n",
    "ax.tick_params(labelsize=10)\n",
    "\n",
    "for axis in ['top', 'right']:\n",
    "   ax.spines[axis].set_color(None)\n",
    "\n",
    "fig.savefig(\"./Imagens/EvolucaoDosCasos.png\")\n",
    "fig.tight_layout();"
   ]
  },
  {
   "cell_type": "markdown",
   "id": "f78ed87b",
   "metadata": {},
   "source": [
    "### Gráfico com uma relação de quantidade de internações por casos"
   ]
  },
  {
   "cell_type": "code",
   "execution_count": null,
   "id": "5716c094",
   "metadata": {},
   "outputs": [],
   "source": [
    "internacao = dataFrameCasos.groupby(\"INTERNACAO\")['CLASSIFICACAO_CASO'].count().reset_index()\n",
    "\n",
    "fig, ax = plt.subplots()\n",
    "\n",
    "plot = sns.barplot(x=internacao['INTERNACAO'], y=internacao['CLASSIFICACAO_CASO'], ax=ax, data=internacao)\n",
    "for p in plot.patches:\n",
    "    plot.annotate(format(p.get_height(), '.0f'), \n",
    "                   (p.get_x() + p.get_width() / 2., p.get_height()), \n",
    "                   ha = 'center', va = 'center', \n",
    "                   xytext = (0, 9), \n",
    "                   textcoords = 'offset points')\n",
    "\n",
    "ax.set_title(\"Relação de internações\", fontdict={'fontsize':15})\n",
    "ax.set_xlabel('Status', fontdict={'fontsize':13})\n",
    "ax.set_ylabel('Casos', fontdict={'fontsize':13})\n",
    "ax.tick_params(labelsize=10)\n",
    "\n",
    "for axis in ['top', 'right']:\n",
    "   ax.spines[axis].set_color(None)\n",
    "\n",
    "fig.savefig(\"./Imagens/RelacaoInternacao.png\")\n",
    "fig.tight_layout();"
   ]
  },
  {
   "cell_type": "markdown",
   "id": "d28063f0",
   "metadata": {},
   "source": [
    "### Gráfico com uma relacao entre internações em UTIs e número de casos confirmados"
   ]
  },
  {
   "cell_type": "code",
   "execution_count": null,
   "id": "8d37ac9c",
   "metadata": {},
   "outputs": [],
   "source": [
    "uti = dataFrameCasos.groupby(\"UTI\")['CLASSIFICACAO_CASO'].count().reset_index()\n",
    "\n",
    "fig, ax = plt.subplots()\n",
    "\n",
    "plot = sns.barplot(x=uti['UTI'], y=uti['CLASSIFICACAO_CASO'], ax=ax, data=uti)\n",
    "for p in plot.patches:\n",
    "    plot.annotate(format(p.get_height(), '.0f'), \n",
    "                   (p.get_x() + p.get_width() / 2., p.get_height()), \n",
    "                   ha = 'center', va = 'center', \n",
    "                   xytext = (0, 9), \n",
    "                   textcoords = 'offset points')\n",
    "\n",
    "ax.set_title(\"Relação de internações em UTI\", fontdict={'fontsize':15})\n",
    "ax.set_xlabel('Status', fontdict={'fontsize':13})\n",
    "ax.set_ylabel('Casos', fontdict={'fontsize':13})\n",
    "ax.tick_params(labelsize=10)\n",
    "\n",
    "for axis in ['top', 'right']:\n",
    "   ax.spines[axis].set_color(None)\n",
    "\n",
    "fig.savefig(\"./Imagens/RelacaoUTI.png\")\n",
    "fig.tight_layout();"
   ]
  }
 ],
 "metadata": {
  "kernelspec": {
   "display_name": "Python 3",
   "language": "python",
   "name": "python3"
  },
  "language_info": {
   "codemirror_mode": {
    "name": "ipython",
    "version": 3
   },
   "file_extension": ".py",
   "mimetype": "text/x-python",
   "name": "python",
   "nbconvert_exporter": "python",
   "pygments_lexer": "ipython3",
   "version": "3.7.9"
  }
 },
 "nbformat": 4,
 "nbformat_minor": 5
}
